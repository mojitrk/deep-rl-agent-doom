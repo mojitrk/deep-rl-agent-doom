{
 "cells": [
  {
   "cell_type": "code",
   "execution_count": 3,
   "metadata": {},
   "outputs": [
    {
     "name": "stdout",
     "output_type": "stream",
     "text": [
      "Requirement already satisfied: vizdoom in c:\\users\\mojitrk\\persistent\\dev\\doom-drl-agent\\.conda\\lib\\site-packages (1.2.3)\n",
      "Requirement already satisfied: numpy in c:\\users\\mojitrk\\persistent\\dev\\doom-drl-agent\\.conda\\lib\\site-packages (from vizdoom) (1.26.4)\n",
      "Requirement already satisfied: gymnasium>=0.28.0 in c:\\users\\mojitrk\\persistent\\dev\\doom-drl-agent\\.conda\\lib\\site-packages (from vizdoom) (0.29.1)\n",
      "Requirement already satisfied: pygame>=2.1.3 in c:\\users\\mojitrk\\persistent\\dev\\doom-drl-agent\\.conda\\lib\\site-packages (from vizdoom) (2.5.2)\n",
      "Requirement already satisfied: cloudpickle>=1.2.0 in c:\\users\\mojitrk\\persistent\\dev\\doom-drl-agent\\.conda\\lib\\site-packages (from gymnasium>=0.28.0->vizdoom) (3.0.0)\n",
      "Requirement already satisfied: typing-extensions>=4.3.0 in c:\\users\\mojitrk\\persistent\\dev\\doom-drl-agent\\.conda\\lib\\site-packages (from gymnasium>=0.28.0->vizdoom) (4.12.2)\n",
      "Requirement already satisfied: farama-notifications>=0.0.1 in c:\\users\\mojitrk\\persistent\\dev\\doom-drl-agent\\.conda\\lib\\site-packages (from gymnasium>=0.28.0->vizdoom) (0.0.4)\n",
      "Note: you may need to restart the kernel to use updated packages.\n",
      "Requirement already satisfied: gymnasium in c:\\users\\mojitrk\\persistent\\dev\\doom-drl-agent\\.conda\\lib\\site-packages (0.29.1)\n",
      "Requirement already satisfied: numpy>=1.21.0 in c:\\users\\mojitrk\\persistent\\dev\\doom-drl-agent\\.conda\\lib\\site-packages (from gymnasium) (1.26.4)\n",
      "Requirement already satisfied: cloudpickle>=1.2.0 in c:\\users\\mojitrk\\persistent\\dev\\doom-drl-agent\\.conda\\lib\\site-packages (from gymnasium) (3.0.0)\n",
      "Requirement already satisfied: typing-extensions>=4.3.0 in c:\\users\\mojitrk\\persistent\\dev\\doom-drl-agent\\.conda\\lib\\site-packages (from gymnasium) (4.12.2)\n",
      "Requirement already satisfied: farama-notifications>=0.0.1 in c:\\users\\mojitrk\\persistent\\dev\\doom-drl-agent\\.conda\\lib\\site-packages (from gymnasium) (0.0.4)\n",
      "Note: you may need to restart the kernel to use updated packages.\n"
     ]
    }
   ],
   "source": [
    "#prerequisite package installation\n",
    "%pip install vizdoom\n",
    "%pip install gymnasium"
   ]
  },
  {
   "cell_type": "code",
   "execution_count": 2,
   "metadata": {},
   "outputs": [
    {
     "data": {
      "text/plain": [
       "True"
      ]
     },
     "execution_count": 2,
     "metadata": {},
     "output_type": "execute_result"
    }
   ],
   "source": [
    "import os\n",
    "import vizdoom as vzd\n",
    "\n",
    "#create vizdoom instance without gymnasium\n",
    "game = vzd.DoomGame()\n",
    "game.load_config(os.path.join(vzd.scenarios_path, \"basic.cfg\"))"
   ]
  },
  {
   "cell_type": "code",
   "execution_count": 4,
   "metadata": {},
   "outputs": [
    {
     "name": "stderr",
     "output_type": "stream",
     "text": [
      "c:\\Users\\Mojitrk\\Persistent\\Dev\\doom-drl-agent\\.conda\\Lib\\site-packages\\vizdoom\\gymnasium_wrapper\\base_gymnasium_env.py:84: UserWarning: Detected screen format CRCGCB. Only RGB24 and GRAY8 are supported in the Gymnasium wrapper. Forcing RGB24.\n",
      "  warnings.warn(\n"
     ]
    }
   ],
   "source": [
    "import gymnasium\n",
    "from vizdoom import gymnasium_wrapper\n",
    "\n",
    "#create vizdoom instance with gymnasium\n",
    "env = gymnasium.make(\"VizdoomBasic-v0\")"
   ]
  }
 ],
 "metadata": {
  "kernelspec": {
   "display_name": "Python 3",
   "language": "python",
   "name": "python3"
  },
  "language_info": {
   "codemirror_mode": {
    "name": "ipython",
    "version": 3
   },
   "file_extension": ".py",
   "mimetype": "text/x-python",
   "name": "python",
   "nbconvert_exporter": "python",
   "pygments_lexer": "ipython3",
   "version": "3.11.9"
  }
 },
 "nbformat": 4,
 "nbformat_minor": 2
}
